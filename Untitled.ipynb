{
 "cells": [
  {
   "cell_type": "code",
   "execution_count": null,
   "metadata": {},
   "outputs": [
    {
     "name": "stdout",
     "output_type": "stream",
     "text": [
      "All the brand links scraped\n"
     ]
    }
   ],
   "source": [
    "import pandas as pd\n",
    "from bs4 import BeautifulSoup\n",
    "import requests as req\n",
    "\n",
    "\n",
    "\n",
    "data_dict = dict(\n",
    "        product_name = [],\n",
    "        brand_name = [],\n",
    "        description = [],\n",
    "        mfg_part = [],\n",
    "        item_no = [],\n",
    "        price = [],\n",
    "        img_url = [],\n",
    "        product_link = [],\n",
    "        )\n",
    "\n",
    "def process():\n",
    "    \"It will start all the process and will return true upon completed\"\n",
    "    brand_url = \"https://www.pearsondental.com/catalog/product_bybrand_mfg.asp\"\n",
    "    brand_links = scrape_brand_links(get_soup_object_from_request(brand_url))\n",
    "\n",
    "\n",
    "    product_links = scrape_product_links(brand_links)\n",
    "\n",
    "    status = scrape_product_info(product_links)\n",
    "\n",
    "    if status:\n",
    "        export_csv(data_dict)\n",
    "\n",
    "        return True\n",
    "    else:\n",
    "        return False\n",
    "process()\n"
   ]
  },
  {
   "cell_type": "code",
   "execution_count": null,
   "metadata": {},
   "outputs": [],
   "source": [
    "def get_soup_object_from_request(url):\n",
    "    \"\"\"\n",
    "    Takes URL and return Soup object\n",
    "    \"\"\"\n",
    "    resp = req.get(url)\n",
    "    data = resp.text\n",
    "    soup = BeautifulSoup(data,'html.parser')\n",
    "\n",
    "    return soup\n"
   ]
  },
  {
   "cell_type": "code",
   "execution_count": null,
   "metadata": {},
   "outputs": [],
   "source": [
    "def scrape_brand_links(soup_object):\n",
    "    \"\"\"\n",
    "    It will scrape all the brand links and will return list of all brand links\n",
    "    \"\"\"\n",
    "    tr = soup_object.find_all('table',class_='subcat') \n",
    "    \n",
    "\n",
    "    for i in tr:\n",
    "        x = i.find_all('a')\n",
    "        link_list = []\n",
    "        for i in x:\n",
    "            link = \"https://www.pearsondental.com/catalog/\" + i.get('href')\n",
    "            link_list.append(link)\n",
    "    print(\"All the brand links scraped\")\n",
    "\n",
    "    return link_list"
   ]
  },
  {
   "cell_type": "code",
   "execution_count": null,
   "metadata": {},
   "outputs": [],
   "source": [
    "def scrape_product_links(links):\n",
    "    \"\"\"\n",
    "    Takes list of links of brands\n",
    "    return all the products link in a list\n",
    "    \"\"\"\n",
    "    total_link = []\n",
    "    for link in links:\n",
    "        p_s = get_soup_object_from_request(link)\n",
    "        product_links = p_s.find_all('a',class_='subcat')\n",
    "        product_links = [total_link.append(i.get('href') for i in product_links)]\n",
    "        \n",
    "    print(\"All the product links scraped\")\n",
    "\n",
    "    return total_link"
   ]
  },
  {
   "cell_type": "code",
   "execution_count": null,
   "metadata": {},
   "outputs": [],
   "source": [
    "def scrape_product_info(product_links):\n",
    "    \"\"\"\n",
    "    Scrape Product info and appaned into Data Dictornary\n",
    "    Returns True is completed\n",
    "    use code like this to append the data -> data_dict['price'].append('data')\n",
    "    \"\"\"\n",
    "    for product_link in product_links:\n",
    "        c = get_soup_object_from_request(product_link)\n",
    "        product_c = c.h1\n",
    "        if product_c:\n",
    "            product_name = product_c.text\n",
    "            data_dict.append['product_name'].append(product_name)\n",
    "        else:\n",
    "            data_dict.append['product_name'].append('N/A')\n",
    "        brand = c.find(class_='text6')\n",
    "        if brand:\n",
    "            brand_name = brand.text\n",
    "            data_dict.append['brand_name'].append(brand_name)\n",
    "        else:\n",
    "            data_dict.append['brand_name'].append('N/A')\n",
    "        mfg_c = c.find('font',class_='link2').find_next('font')\n",
    "        if pro_info_c:\n",
    "                    mf = mfg_c.text.split(':')\n",
    "                    mfg = mf[1]\n",
    "                    data_dict['mfg_part'].append(mfg)\n",
    "        \n",
    "        else:\n",
    "            data_dict['mfg_part'].append('N/A')\n",
    "        \n",
    "        \n",
    "        \n",
    "        \n",
    "        img = c.find('a',class_='subcat').find_next('img').get('src')\n",
    "        if img:\n",
    "            data_dict.append['img_url'].append(img)\n",
    "        else:\n",
    "            data_dict.append['img_url'].append('N/A')\n",
    "        pr = con_s.find('font',class_='maroon').text\n",
    "            \n",
    "        if pr:\n",
    "            \n",
    "            data_dict['price'].append(pr)\n",
    "        else:\n",
    "            data_dict['price'].append('N/A')\n",
    "    \n",
    "    \n",
    "    \n",
    "\n",
    "    # Enter Loop for product_links\n",
    "\n",
    "    # Enter loop for Description/Package field(multiple products)\n",
    "\n",
    "    # Append All the stuff\n",
    "\n",
    "    return True\n"
   ]
  },
  {
   "cell_type": "code",
   "execution_count": null,
   "metadata": {},
   "outputs": [],
   "source": [
    "def export_csv(data_dict):\n",
    "    \"\"\"\n",
    "    Export Data Dictionary into CSV format\n",
    "    \"\"\"\n",
    "    dataFrame = pd.DataFrame(data_dict)\n",
    "    dataFrame.to_csv(\"data.csv\", mode='w', header=True, index=False)\n",
    "    print(\"Data.csv exported\")\n",
    "    return True"
   ]
  },
  {
   "cell_type": "code",
   "execution_count": null,
   "metadata": {},
   "outputs": [],
   "source": []
  },
  {
   "cell_type": "code",
   "execution_count": null,
   "metadata": {},
   "outputs": [],
   "source": []
  },
  {
   "cell_type": "code",
   "execution_count": null,
   "metadata": {},
   "outputs": [],
   "source": []
  },
  {
   "cell_type": "code",
   "execution_count": null,
   "metadata": {},
   "outputs": [],
   "source": []
  },
  {
   "cell_type": "code",
   "execution_count": null,
   "metadata": {},
   "outputs": [],
   "source": []
  }
 ],
 "metadata": {
  "kernelspec": {
   "display_name": "Python 3",
   "language": "python",
   "name": "python3"
  },
  "language_info": {
   "codemirror_mode": {
    "name": "ipython",
    "version": 3
   },
   "file_extension": ".py",
   "mimetype": "text/x-python",
   "name": "python",
   "nbconvert_exporter": "python",
   "pygments_lexer": "ipython3",
   "version": "3.7.6"
  }
 },
 "nbformat": 4,
 "nbformat_minor": 4
}
