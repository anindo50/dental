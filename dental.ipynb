{
 "cells": [
  {
   "cell_type": "code",
   "execution_count": null,
   "metadata": {},
   "outputs": [],
   "source": [
    "from bs4 import BeautifulSoup\n",
    "import requests as req\n",
    "import pandas as pd\n",
    "\n",
    "data_dict = dict(\n",
    "        brand_name = [],\n",
    "        product_link = [],\n",
    "        img_url = [],\n",
    "        product_name = [],\n",
    "        product_info = [],\n",
    "        description = [],\n",
    "        item_no = [],\n",
    "        price = [],\n",
    "        )\n",
    "\n"
   ]
  },
  {
   "cell_type": "code",
   "execution_count": null,
   "metadata": {},
   "outputs": [],
   "source": [
    "def process():\n",
    "    url = 'https://www.pearsondental.com/catalog/product_bybrand_mfg.asp'\n",
    "    resp = req.get(url)\n",
    "    data = resp.text\n",
    "    soup = BeautifulSoup(data,'html.parser')\n",
    "    \n",
    "    return soup"
   ]
  },
  {
   "cell_type": "code",
   "execution_count": null,
   "metadata": {},
   "outputs": [],
   "source": [
    "def scrape_brand_names():\n",
    "    soup = process()\n",
    "    tr = soup.find_all('table',class_='subcat') \n",
    "    for i in tr:\n",
    "        x = i.find_all('a')\n",
    "        for i in x:\n",
    "            c = i.text\n",
    "            if c:\n",
    "                data_dict['brand_name'].append(c)\n",
    "            else:\n",
    "                data_dict['brand_name'].append('N/A')\n",
    "scrape_brand_names()"
   ]
  },
  {
   "cell_type": "code",
   "execution_count": null,
   "metadata": {},
   "outputs": [],
   "source": [
    "def scrape_product_links():\n",
    "    soup = process()\n",
    "    tr = soup.find_all('table',class_='subcat')\n",
    "    for i in tr:\n",
    "        x = i.find_all('a')\n",
    "        for i in x:\n",
    "            b = i.get('href')\n",
    "            data_dict['product_link'].append(b)\n",
    "            link = 'https://www.pearsondental.com/catalog/' + b\n",
    "            p_l = req.get(link)\n",
    "            p_d = p_l.text\n",
    "            p_s = BeautifulSoup(p_d,'html.parser')\n",
    "            x = p_s.strong\n",
    "            if x:\n",
    "                b = x.text.split('-')\n",
    "                data_dict['product_name'].append(b[1])\n",
    "            else:\n",
    "                data_dict['product_name'].append('N/A')\n",
    "                \n",
    "    \n",
    "scrape_product_links()"
   ]
  },
  {
   "cell_type": "code",
   "execution_count": null,
   "metadata": {},
   "outputs": [],
   "source": [
    "def scrape_product_info():\n",
    "    soup = process()\n",
    "    tr = soup.find_all('table',class_='subcat')\n",
    "    for i in tr:\n",
    "        x = i.find_all('a')\n",
    "        for i in x:\n",
    "            b = i.get('href')\n",
    "            if b:\n",
    "                data_dict['product_link'].append(b)\n",
    "            else:\n",
    "                data_dict['product_link'].append('N/A')\n",
    "            link = 'https://www.pearsondental.com/catalog/' + b\n",
    "            p_l = req.get(link)\n",
    "            p_d = p_l.text\n",
    "            p_s = BeautifulSoup(p_d,'html.parser')\n",
    "            img_c = p_s.find('img')\n",
    "            if img:\n",
    "                img = img_c.get('src')\n",
    "                data_dict['img_url'].append(img)\n",
    "            else:\n",
    "                data_dict['img_url'].append('N/A')\n",
    "            \n",
    "            con = p_s.find('a',class_='subcat')\n",
    "            if con:\n",
    "                link = 'https://www.pearsondental.com' + con.get('href')\n",
    "                con_l = req.get(link)\n",
    "                con_d = con_l.text\n",
    "                con_s = BeautifulSoup(con_d,'html.parser')\n",
    "                pro_info = con_s.find('font',class_='link2').text\n",
    "                if pro_info:\n",
    "                    data_dict['product_info'].append(pro_info)\n",
    "                else:\n",
    "                     data_dict['product_info'].append('N/A')\n",
    "                detail = con_s.find('font',class_='link2').find_next('font').text\n",
    "                if detail:\n",
    "                    data_dict['description'].append(detail)\n",
    "                else:\n",
    "                    data_dict['description'].append('N/A')\n",
    "                x = con_s.find_all('td',class_='link2')\n",
    "                for i in x:\n",
    "                    z = i.find('a')\n",
    "                    if z:\n",
    "                        q = z.get('name')\n",
    "                        data_dict['item_no'].append(q)\n",
    "                    else:\n",
    "                        data_dict['item_no'].append('N/A')\n",
    "                pr = con_s.find('font',class_='maroon').text\n",
    "                if pr:\n",
    "                    data_dict['price'].append(pr)\n",
    "                else:\n",
    "                    data_dict['price'].append('N/A')\n",
    "                \n",
    "                \n",
    "    print(data_dict)\n",
    "                \n",
    "scrape_product_info()\n"
   ]
  },
  {
   "cell_type": "code",
   "execution_count": null,
   "metadata": {},
   "outputs": [],
   "source": [
    "def export_csv(data_dict):\n",
    "    dataFrame = pd.DataFrame(data_dict)\n",
    "    dataFrame.to_csv(\"dental.csv\", mode='w', header=True, index=False)\n",
    "    \n",
    "    return dataFrame"
   ]
  },
  {
   "cell_type": "code",
   "execution_count": null,
   "metadata": {},
   "outputs": [],
   "source": []
  },
  {
   "cell_type": "code",
   "execution_count": null,
   "metadata": {},
   "outputs": [],
   "source": []
  },
  {
   "cell_type": "code",
   "execution_count": null,
   "metadata": {},
   "outputs": [],
   "source": []
  },
  {
   "cell_type": "code",
   "execution_count": null,
   "metadata": {},
   "outputs": [],
   "source": []
  },
  {
   "cell_type": "code",
   "execution_count": null,
   "metadata": {},
   "outputs": [],
   "source": []
  },
  {
   "cell_type": "code",
   "execution_count": null,
   "metadata": {},
   "outputs": [],
   "source": []
  },
  {
   "cell_type": "code",
   "execution_count": null,
   "metadata": {},
   "outputs": [],
   "source": []
  },
  {
   "cell_type": "code",
   "execution_count": null,
   "metadata": {},
   "outputs": [],
   "source": []
  },
  {
   "cell_type": "code",
   "execution_count": null,
   "metadata": {},
   "outputs": [],
   "source": []
  },
  {
   "cell_type": "code",
   "execution_count": null,
   "metadata": {},
   "outputs": [],
   "source": []
  },
  {
   "cell_type": "code",
   "execution_count": null,
   "metadata": {},
   "outputs": [],
   "source": []
  },
  {
   "cell_type": "code",
   "execution_count": null,
   "metadata": {},
   "outputs": [],
   "source": []
  },
  {
   "cell_type": "code",
   "execution_count": null,
   "metadata": {},
   "outputs": [],
   "source": []
  },
  {
   "cell_type": "code",
   "execution_count": null,
   "metadata": {},
   "outputs": [],
   "source": []
  },
  {
   "cell_type": "code",
   "execution_count": null,
   "metadata": {},
   "outputs": [],
   "source": []
  },
  {
   "cell_type": "code",
   "execution_count": null,
   "metadata": {},
   "outputs": [],
   "source": []
  },
  {
   "cell_type": "code",
   "execution_count": null,
   "metadata": {},
   "outputs": [],
   "source": []
  }
 ],
 "metadata": {
  "kernelspec": {
   "display_name": "Python 3",
   "language": "python",
   "name": "python3"
  },
  "language_info": {
   "codemirror_mode": {
    "name": "ipython",
    "version": 3
   },
   "file_extension": ".py",
   "mimetype": "text/x-python",
   "name": "python",
   "nbconvert_exporter": "python",
   "pygments_lexer": "ipython3",
   "version": "3.7.6"
  }
 },
 "nbformat": 4,
 "nbformat_minor": 4
}
