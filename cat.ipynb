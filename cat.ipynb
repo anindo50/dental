{
 "cells": [
  {
   "cell_type": "code",
   "execution_count": 11,
   "metadata": {},
   "outputs": [],
   "source": [
    "from bs4 import BeautifulSoup\n",
    "import requests as req\n",
    "import pandas as pd\n",
    "\n",
    "data_dict = dict( #product_name = [],\n",
    "                 catagory = [],\n",
    "                 ADDITIVES = [],\n",
    "                 BRAND = [],\n",
    "                 INGREDIENTS = [],\n",
    "                 ITEM = [],\n",
    "                 ITEM_TYPE = [],\n",
    "                 PERCENTAGE = [],\n",
    "                 QUANTITY = [],\n",
    "                 STRENGTH = [],\n",
    "                 VOLUME = [],\n",
    "    )"
   ]
  },
  {
   "cell_type": "code",
   "execution_count": 24,
   "metadata": {},
   "outputs": [
    {
     "name": "stdout",
     "output_type": "stream",
     "text": [
      "ok\n",
      "ok\n",
      "ok\n",
      "Product Left: 9205\n",
      "Data.csv exported\n"
     ]
    },
    {
     "data": {
      "text/plain": [
       "True"
      ]
     },
     "execution_count": 24,
     "metadata": {},
     "output_type": "execute_result"
    }
   ],
   "source": [
    "def process():\n",
    "    brand_url = \"https://www.henryschein.com/us-en/specialmarkets_d/c/browsesupplies\"\n",
    "    brand_links = parse_item_link(soup_object(brand_url))\n",
    "    basic_links = parse_all_link(brand_links)\n",
    "    product_links = inside_link(basic_links)\n",
    "\n",
    "    status = scrape_product_info(product_links)\n",
    "\n",
    "    if status:\n",
    "        export_csv(data_dict)\n",
    "\n",
    "        return True\n",
    "    else:\n",
    "        return False\n",
    "process()"
   ]
  },
  {
   "cell_type": "code",
   "execution_count": 12,
   "metadata": {},
   "outputs": [],
   "source": [
    "def soup_object(url):\n",
    "    resp = req.get(url)\n",
    "    data = resp.text\n",
    "    soup = BeautifulSoup(data,'html.parser')\n",
    "\n",
    "    return soup"
   ]
  },
  {
   "cell_type": "code",
   "execution_count": 13,
   "metadata": {},
   "outputs": [],
   "source": [
    "def parse_item_link(soup):\n",
    "    cons = soup.find_all('ul',class_='hs-categories display grid clear-fix')\n",
    "    cat_link = []\n",
    "    for con in cons:\n",
    "        link = con.find_all('a')\n",
    "        #link = [i.get('href') for i in link]\n",
    "        for y in link:\n",
    "            cat_link.append(y.get('href'))\n",
    "        #cat_link = link\n",
    "        #re_link = cat_link.append(link)\n",
    "        #c = soup.find_all('ul',attrs={'data-tabs-contents':'alpha'})\n",
    "        #for i in c:\n",
    "            #x = i.find_all('a')\n",
    "            #for y in x:\n",
    "                #f = y.get('href')\n",
    "                #man_link.append(f)\n",
    "    #total = cat_link,man_link\n",
    "    #total = cat_link,man_link\n",
    "    \n",
    "    print('ok')\n",
    "    return cat_link\n",
    "    #return cat_link,man_link"
   ]
  },
  {
   "cell_type": "code",
   "execution_count": 14,
   "metadata": {},
   "outputs": [],
   "source": [
    "def parse_all_link(links):\n",
    "    cat_url = []\n",
    "    for link in links:\n",
    "        \n",
    "        link_soup = soup_object(link)\n",
    "        x = link_soup.find_all('ul',attrs={'style':'padding: 1em .5em .5em'})\n",
    "        for i in x:\n",
    "            z = i.find_all('a')\n",
    "            for y in z:\n",
    "                a = y.get('href')\n",
    "                cat_url.append(a)\n",
    "        #m = link_soup.find_all('h2',class_='product-name') \n",
    "        #for i in m:\n",
    "            #n = i.find_all('a')\n",
    "            #man_url = []\n",
    "            #for y in n:\n",
    "                #p = y.get('href')\n",
    "                #man_url.append(p)            \n",
    "    print('ok')           \n",
    "    #return cat_url,man_url\n",
    "    return cat_url"
   ]
  },
  {
   "cell_type": "code",
   "execution_count": 15,
   "metadata": {},
   "outputs": [],
   "source": [
    "def inside_link(gets):\n",
    "    hole = []\n",
    "    for get in gets:\n",
    "        soup = soup_object(get)\n",
    "        m = soup.find_all('h2',class_='product-name') \n",
    "        for i in m:\n",
    "            n = i.find_all('a')\n",
    "            for y in n:\n",
    "                p = y.get('href')\n",
    "                hole.append(p)\n",
    "    print('ok')\n",
    "    return hole\n",
    "    "
   ]
  },
  {
   "cell_type": "code",
   "execution_count": 22,
   "metadata": {},
   "outputs": [],
   "source": [
    "def  scrape_product_info(product_links):\n",
    "    #url = 'https://www.henryschein.com'\n",
    "    for index, product_link in enumerate(product_links):\n",
    "        c = soup_object(product_link)\n",
    "        cols = c.find('div',class_='value').parent\n",
    "        #cols = c.find('div',class_='content')\n",
    "        for col in cols:\n",
    "            for i in range(len(cols)):\n",
    "                \n",
    "            \n",
    "            #x = c.find('ul',attrs={'data-tabs-contents':'alpha'})\n",
    "            #data_dict['Manufacturers'].append(x.h3.text)\n",
    "                try:\n",
    "                    data_dict['catagory'].append(c.find('a',attrs={'title':'Anesthetics'}).text)\n",
    "                except AttributeError:\n",
    "                    data_dict['catagory'].append('')\n",
    "                try:\n",
    "                    data_dict['ADDITIVES'].append(i.find_all('li')[0].find(class_='value').text.strip())\n",
    "                except:\n",
    "                    data_dict['ADDITIVES'].append('')\n",
    "                try:\n",
    "                    data_dict['BRAND'].append(i.find_all('li')[1].find(class_='value').text.strip())\n",
    "                except:\n",
    "                    data_dict['BRAND'].append('')\n",
    "                try:\n",
    "                    data_dict['INGREDIENTS'].append(i.find_all('li')[2].find(class_='value').text.strip())\n",
    "                except:\n",
    "                     data_dict['INGREDIENTS'].append('')\n",
    "                try:\n",
    "                    data_dict['ITEM'].append(i.find_all('li')[3].find(class_='value').text.strip())\n",
    "                except:\n",
    "                    data_dict['ITEM'].append('')\n",
    "                try:    \n",
    "                    data_dict['ITEM_TYPE'].append(i.find_all('li')[4].find(class_='value').text.strip())\n",
    "                except:\n",
    "                    data_dict['ITEM_TYPE'].append('')\n",
    "                try:  \n",
    "                    data_dict['PERCENTAGE'].append(i.find_all('li')[5].find(class_='value').text.strip())\n",
    "                except:\n",
    "                    data_dict['PERCENTAGE'].append('')\n",
    "                try:\n",
    "                    data_dict['QUANTITY'].append(i.find_all('li')[6].find(class_='value').text.strip())\n",
    "                except:\n",
    "                    data_dict['QUANTITY'].append('')\n",
    "                try:\n",
    "                    data_dict['STRENGTH'].append(i.find_all('li')[7].find(class_='value').text.strip())\n",
    "                except:\n",
    "                    data_dict['STRENGTH'].append('')\n",
    "                try:\n",
    "                    data_dict['VOLUME'].append(i.find_all('li')[8].find(class_='value').text.strip())\n",
    "                except:\n",
    "                    data_dict['VOLUME'].append('')\n",
    "        print(\"Product Left:\", str(len(product_links)-index))\n",
    "         \n",
    "        return True"
   ]
  },
  {
   "cell_type": "code",
   "execution_count": 23,
   "metadata": {},
   "outputs": [],
   "source": [
    "def export_csv(data_dict):\n",
    "    dataFrame = pd.DataFrame(data_dict)\n",
    "    dataFrame.to_csv(\"data.csv\", mode='w', header=True, index=False)\n",
    "    print(\"Data.csv exported\")\n",
    "    return True"
   ]
  },
  {
   "cell_type": "code",
   "execution_count": null,
   "metadata": {},
   "outputs": [],
   "source": []
  },
  {
   "cell_type": "code",
   "execution_count": null,
   "metadata": {},
   "outputs": [],
   "source": []
  }
 ],
 "metadata": {
  "kernelspec": {
   "display_name": "Python 3",
   "language": "python",
   "name": "python3"
  },
  "language_info": {
   "codemirror_mode": {
    "name": "ipython",
    "version": 3
   },
   "file_extension": ".py",
   "mimetype": "text/x-python",
   "name": "python",
   "nbconvert_exporter": "python",
   "pygments_lexer": "ipython3",
   "version": "3.7.6"
  }
 },
 "nbformat": 4,
 "nbformat_minor": 4
}
